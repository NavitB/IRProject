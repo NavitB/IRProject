{
  "nbformat": 4,
  "nbformat_minor": 0,
  "metadata": {
    "colab": {
      "name": "Body + Title.ipynb",
      "provenance": [],
      "collapsed_sections": [],
      "authorship_tag": "ABX9TyOchz2hnSslfAKxtgaOIJ99",
      "include_colab_link": true
    },
    "kernelspec": {
      "name": "python3",
      "display_name": "Python 3"
    },
    "language_info": {
      "name": "python"
    }
  },
  "cells": [
    {
      "cell_type": "markdown",
      "metadata": {
        "id": "view-in-github",
        "colab_type": "text"
      },
      "source": [
        "<a href=\"https://colab.research.google.com/github/NavitB/IRProject/blob/main/Body_%2B_Title.ipynb\" target=\"_parent\"><img src=\"https://colab.research.google.com/assets/colab-badge.svg\" alt=\"Open In Colab\"/></a>"
      ]
    },
    {
      "cell_type": "markdown",
      "source": [
        "# **Imports and Installs**"
      ],
      "metadata": {
        "id": "InmbDURp_0M3"
      }
    },
    {
      "cell_type": "code",
      "execution_count": 1,
      "metadata": {
        "colab": {
          "base_uri": "https://localhost:8080/"
        },
        "id": "iLsmupPW-oGB",
        "outputId": "38ce5c57-000f-41e6-f857-f097d25da2ac"
      },
      "outputs": [
        {
          "output_type": "stream",
          "name": "stdout",
          "text": [
            "[nltk_data] Downloading package stopwords to /root/nltk_data...\n",
            "[nltk_data]   Package stopwords is already up-to-date!\n"
          ]
        }
      ],
      "source": [
        "import sys\n",
        "from collections import Counter, OrderedDict\n",
        "import itertools\n",
        "from itertools import islice, count, groupby\n",
        "import pandas as pd\n",
        "import os\n",
        "import re\n",
        "from operator import itemgetter\n",
        "import nltk\n",
        "from nltk.stem.porter import *\n",
        "from nltk.corpus import stopwords\n",
        "from time import time\n",
        "from timeit import timeit\n",
        "from pathlib import Path\n",
        "import pickle\n",
        "import pandas as pd\n",
        "import numpy as np\n",
        "import math\n",
        "from operator import add\n",
        "import builtins\n",
        "from google.cloud import storage\n",
        "\n",
        "import hashlib\n",
        "def _hash(s):\n",
        "    return hashlib.blake2b(bytes(s, encoding='utf8'), digest_size=5).hexdigest()\n",
        "\n",
        "nltk.download('stopwords')\n",
        "\n",
        "from inverted_index_colab import *"
      ]
    },
    {
      "cell_type": "code",
      "source": [
        "# These will already be installed in the testing environment so disregard the \n",
        "# amount of time (~1 minute) it takes to install. \n",
        "!pip install -q pyspark\n",
        "!pip install -U -q PyDrive\n",
        "!apt install openjdk-8-jdk-headless -qq\n",
        "!pip install -q graphframes\n",
        "import os\n",
        "os.environ[\"JAVA_HOME\"] = \"/usr/lib/jvm/java-8-openjdk-amd64\"\n",
        "graphframes_jar = 'https://repos.spark-packages.org/graphframes/graphframes/0.8.2-spark3.2-s_2.12/graphframes-0.8.2-spark3.2-s_2.12.jar'\n",
        "spark_jars = '/usr/local/lib/python3.7/dist-packages/pyspark/jars'\n",
        "!wget -N -P $spark_jars $graphframes_jar"
      ],
      "metadata": {
        "colab": {
          "base_uri": "https://localhost:8080/"
        },
        "id": "5T2vtqVJ-1fr",
        "outputId": "2f389a1f-3282-41d8-fc81-77fa1ee69db2"
      },
      "execution_count": 2,
      "outputs": [
        {
          "output_type": "stream",
          "name": "stdout",
          "text": [
            "openjdk-8-jdk-headless is already the newest version (8u312-b07-0ubuntu1~18.04).\n",
            "0 upgraded, 0 newly installed, 0 to remove and 59 not upgraded.\n",
            "--2022-01-07 16:21:45--  https://repos.spark-packages.org/graphframes/graphframes/0.8.2-spark3.2-s_2.12/graphframes-0.8.2-spark3.2-s_2.12.jar\n",
            "Resolving repos.spark-packages.org (repos.spark-packages.org)... 13.226.124.24, 13.226.124.87, 13.226.124.26, ...\n",
            "Connecting to repos.spark-packages.org (repos.spark-packages.org)|13.226.124.24|:443... connected.\n",
            "HTTP request sent, awaiting response... 304 Not Modified\n",
            "File ‘/usr/local/lib/python3.7/dist-packages/pyspark/jars/graphframes-0.8.2-spark3.2-s_2.12.jar’ not modified on server. Omitting download.\n",
            "\n"
          ]
        }
      ]
    },
    {
      "cell_type": "code",
      "source": [
        "import pyspark\n",
        "from pyspark.sql import *\n",
        "from pyspark.sql.functions import *\n",
        "from pyspark import SparkContext, SparkConf\n",
        "from pyspark.sql import SQLContext\n",
        "from pyspark.ml.feature import Tokenizer, RegexTokenizer\n",
        "from graphframes import *"
      ],
      "metadata": {
        "id": "vkatS7bV-6Wp"
      },
      "execution_count": 3,
      "outputs": []
    },
    {
      "cell_type": "code",
      "source": [
        "!pip install -q pyspark\n",
        "!pip install -U -q PyDrive\n",
        "!apt-get update -qq\n",
        "!apt install openjdk-8-jdk-headless -qq"
      ],
      "metadata": {
        "colab": {
          "base_uri": "https://localhost:8080/"
        },
        "id": "rkjl1Ufb--EN",
        "outputId": "b0d20187-6287-4997-95c0-ee6222048493"
      },
      "execution_count": 4,
      "outputs": [
        {
          "output_type": "stream",
          "name": "stdout",
          "text": [
            "openjdk-8-jdk-headless is already the newest version (8u312-b07-0ubuntu1~18.04).\n",
            "0 upgraded, 0 newly installed, 0 to remove and 59 not upgraded.\n"
          ]
        }
      ]
    },
    {
      "cell_type": "code",
      "source": [
        "# Initializing spark context\n",
        "# create a spark context and session\n",
        "conf = SparkConf().set(\"spark.ui.port\", \"4050\")\n",
        "sc = pyspark.SparkContext(conf=conf)\n",
        "sc.addPyFile(str(Path(spark_jars) / Path(graphframes_jar).name))\n",
        "spark = SparkSession.builder.getOrCreate()"
      ],
      "metadata": {
        "id": "xkZP3ObO-_kR"
      },
      "execution_count": 5,
      "outputs": []
    },
    {
      "cell_type": "markdown",
      "source": [
        "Creating RDD from data"
      ],
      "metadata": {
        "id": "DGWt6fBV_7hh"
      }
    },
    {
      "cell_type": "code",
      "source": [
        "pandasDf = pd.read_csv(\"/content/newdata.csv\")\n",
        "pandasDf = pandasDf.drop(columns = \"Unnamed: 0\")\n",
        "df_data = spark.createDataFrame(pandasDf)\n",
        "\n",
        "id_text = df_data.select('id','text')\n",
        "id_title = df_data.select('id','title')\n",
        "id_anchor = df_data.select('id', 'anchor_text')\n",
        "\n",
        "id_text = id_text.rdd\n",
        "id_title = id_title.rdd\n",
        "id_anchor = id_anchor.rdd\n",
        "\n",
        "inverted_text = InvertedIndex()\n",
        "inverted_title = InvertedIndex()"
      ],
      "metadata": {
        "id": "2L70lJCu_D1P"
      },
      "execution_count": 6,
      "outputs": []
    },
    {
      "cell_type": "code",
      "source": [
        "english_stopwords = frozenset(stopwords.words('english'))\n",
        "corpus_stopwords = ['category', 'references', 'also', 'links', 'extenal', 'see', 'thumb']\n",
        "RE_WORD = re.compile(r\"\"\"[\\#\\@\\w](['\\-]?\\w){2,24}\"\"\", re.UNICODE)\n",
        "\n",
        "all_stopwords = english_stopwords.union(corpus_stopwords)\n",
        "\n",
        "def word_count(id, text):\n",
        "  ''' Count the frequency of each word in `text` (tf) that is not included in \n",
        "  `all_stopwords` and return entries that will go into our posting lists. \n",
        "  Parameters:\n",
        "  -----------\n",
        "    text: str\n",
        "      Text of one document\n",
        "    id: int\n",
        "      Document id\n",
        "  Returns:\n",
        "  --------\n",
        "    List of tuples\n",
        "      A list of (token, (doc_id, tf)) pairs \n",
        "      for example: [(\"Anarchism\", (12, 5)), ...]\n",
        "  '''\n",
        "  tokens = [token.group() for token in RE_WORD.finditer(text.lower())]\n",
        "  tokens = [token.group() for token in RE_WORD.finditer(text.lower())]\n",
        "  tokens = [x for x in tokens if x not in all_stopwords]\n",
        "  tuples = []\n",
        "  tf_dict = Counter(tokens)\n",
        "  res = []\n",
        "  [res.append(x) for x in tokens if x not in res]\n",
        "  for t in res:\n",
        "    tuples.append((t,(id,tf_dict[t])))\n",
        "  return tuples"
      ],
      "metadata": {
        "id": "LjMzI--9_P08"
      },
      "execution_count": 7,
      "outputs": []
    },
    {
      "cell_type": "code",
      "source": [
        "def count_doc_len(doc_id, text):\n",
        "  tokens = [token.group() for token in RE_WORD.finditer(text.lower())]\n",
        "  tokens = [token.group() for token in RE_WORD.finditer(text.lower())]\n",
        "  tokens = [x for x in tokens if x not in all_stopwords]\n",
        "  return (doc_id,len(tokens))"
      ],
      "metadata": {
        "id": "oaWE1Bor_Q4z"
      },
      "execution_count": 8,
      "outputs": []
    },
    {
      "cell_type": "code",
      "source": [
        "def tf_for_term_id(doc_id, text):\n",
        "  tokens = [token.group() for token in RE_WORD.finditer(text.lower())]\n",
        "  tokens = [token.group() for token in RE_WORD.finditer(text.lower())]\n",
        "  tokens = [x for x in tokens if x not in all_stopwords]\n",
        "  tuples = []\n",
        "  tf_dict = Counter(tokens)\n",
        "  res = []\n",
        "  [res.append(x) for x in tokens if x not in res]\n",
        "  for t in res:\n",
        "    tuples.append((t,tf_dict[t]))\n",
        "  return tuples"
      ],
      "metadata": {
        "id": "13nWYYDl_VBS"
      },
      "execution_count": 9,
      "outputs": []
    },
    {
      "cell_type": "code",
      "source": [
        "word_counts_text = id_text.flatMap(lambda x: word_count(x[0], x[1]))\n",
        "word_counts_title = id_title.flatMap(lambda x: word_count(x[0], x[1]))\n",
        "\n",
        "len_docs_text = id_text.map(lambda x: count_doc_len(x[0], x[1]))\n",
        "len_docs_text = len_docs_text.collectAsMap()\n",
        "inverted_text.DL = len_docs_text\n",
        "\n",
        "len_docs_title = id_title.map(lambda x: count_doc_len(x[0], x[1]))\n",
        "len_docs_title = len_docs_title.collectAsMap()\n",
        "inverted_title.DL = len_docs_title\n"
      ],
      "metadata": {
        "id": "mpV3Dk0m_XKT"
      },
      "execution_count": 10,
      "outputs": []
    },
    {
      "cell_type": "code",
      "source": [
        "def reduce_word_counts(unsorted_pl):\n",
        "  ''' Returns a sorted posting list by wiki_id.\n",
        "  Parameters:\n",
        "  -----------\n",
        "    unsorted_pl: list of tuples\n",
        "      A list of (wiki_id, tf) tuples \n",
        "  Returns:\n",
        "  --------\n",
        "    list of tuples\n",
        "      A sorted posting list.\n",
        "  '''\n",
        "  return sorted(unsorted_pl)"
      ],
      "metadata": {
        "id": "6JdAlqvR_ZX5"
      },
      "execution_count": 11,
      "outputs": []
    },
    {
      "cell_type": "code",
      "source": [
        "#create postings and sort by doc_id\n",
        "postings_text = word_counts_text.groupByKey().mapValues(reduce_word_counts)\n",
        "postings_title = word_counts_title.groupByKey().mapValues(reduce_word_counts)\n",
        "\n",
        "#anchor?\n",
        "#filter out rare words - appearing in less than 10 docs\n",
        "postings_filtered_text = postings_text.filter(lambda x: len(x[1])>10)\n",
        "postings_filtered_title = postings_title.filter(lambda x: len(x[1])>10)\n",
        "#anchor?"
      ],
      "metadata": {
        "id": "s9hsRSeG_bOM"
      },
      "execution_count": 12,
      "outputs": []
    },
    {
      "cell_type": "code",
      "source": [
        "total_terms_text = postings_filtered_text.flatMapValues(lambda x : x).map(lambda x: (x[0],x[1][1])).reduceByKey(add)\n",
        "inverted_text.term_total = total_terms_text.collectAsMap()\n",
        "\n",
        "total_terms_title = postings_filtered_title.flatMapValues(lambda x : x).map(lambda x: (x[0],x[1][1])).reduceByKey(add)\n",
        "inverted_title.term_total = total_terms_title.collectAsMap()"
      ],
      "metadata": {
        "id": "pu7wXAC4_cv7"
      },
      "execution_count": 13,
      "outputs": []
    },
    {
      "cell_type": "code",
      "source": [
        "def calculate_df(postings):\n",
        "  ''' Takes a posting list RDD and calculate the df for each token.\n",
        "  Parameters:\n",
        "  -----------\n",
        "    postings: RDD\n",
        "      An RDD where each element is a (token, posting_list) pair.\n",
        "  Returns:\n",
        "  --------\n",
        "    RDD\n",
        "      An RDD where each element is a (token, df) pair.\n",
        "  '''\n",
        "  rdd2 = postings.map(lambda x: (x[0], len(x[1]))) \n",
        "  return rdd2"
      ],
      "metadata": {
        "id": "5Z5aFDz4_jKA"
      },
      "execution_count": 14,
      "outputs": []
    },
    {
      "cell_type": "code",
      "source": [
        "w2df_text = calculate_df(postings_filtered_text)\n",
        "w2df_title = calculate_df(postings_filtered_title)\n",
        "\n",
        "w2df_text_dict = w2df_text.collectAsMap()\n",
        "w2df_title_dict = w2df_title.collectAsMap()"
      ],
      "metadata": {
        "id": "1xfhvNaG_k-p"
      },
      "execution_count": 15,
      "outputs": []
    },
    {
      "cell_type": "code",
      "source": [
        "NUM_BUCKETS = 124\n",
        "def token2bucket_id(token):\n",
        "  return int(_hash(token),16) % NUM_BUCKETS\n",
        "\n",
        "def partition_postings_and_write(postings,base_dir):\n",
        "  ''' A function that partitions the posting lists into buckets, writes out \n",
        "  all posting lists in a bucket to disk, and returns the posting locations for \n",
        "  each bucket. Partitioning should be done through the use of `token2bucket` \n",
        "  above. Writing to disk should use the function  `write_a_posting_list`, a \n",
        "  static method implemented in inverted_index_colab.py under the InvertedIndex \n",
        "  class. \n",
        "  Parameters:\n",
        "  -----------\n",
        "    postings: RDD\n",
        "      An RDD where each item is a (w, posting_list) pair.\n",
        "  Returns:\n",
        "  --------\n",
        "    RDD\n",
        "      An RDD where each item is a posting locations dictionary for a bucket. The\n",
        "      posting locations maintain a list for each word of file locations and \n",
        "      offsets its posting list was written to. See `write_a_posting_list` for \n",
        "      more details.\n",
        "  '''\n",
        "  rdd2 = postings.map(lambda x: (token2bucket_id(x[0]),x)).groupByKey()\n",
        "  rdd3 = rdd2.map(lambda x: InvertedIndex.write_a_posting_list(x,base_dir))\n",
        "  return rdd3\n"
      ],
      "metadata": {
        "id": "WZB7O5vj_m6o"
      },
      "execution_count": 16,
      "outputs": []
    },
    {
      "cell_type": "code",
      "source": [
        "#rdd for postings locations\n",
        "!mkdir text_pl title_pl \n",
        "postings_locs_text = partition_postings_and_write(postings_filtered_text,'text_pl').collect()\n",
        "postings_locs_title = partition_postings_and_write(postings_filtered_title,'title_pl').collect()\n"
      ],
      "metadata": {
        "colab": {
          "base_uri": "https://localhost:8080/"
        },
        "id": "WfNc7bX1_qng",
        "outputId": "d3da918d-1f8b-4aef-ad04-4d9afe339b37"
      },
      "execution_count": 17,
      "outputs": [
        {
          "output_type": "stream",
          "name": "stdout",
          "text": [
            "mkdir: cannot create directory ‘text_pl’: File exists\n",
            "mkdir: cannot create directory ‘title_pl’: File exists\n"
          ]
        }
      ]
    },
    {
      "cell_type": "code",
      "source": [
        "#create super set for all postings locs\n",
        "super_posting_locs_text = defaultdict(list)\n",
        "for posting_loc in postings_locs_text:\n",
        "  for k, v in posting_loc.items():\n",
        "    super_posting_locs_text[k].extend(v)\n",
        "\n",
        "super_posting_locs_title = defaultdict(list)\n",
        "for posting_loc in postings_locs_title:\n",
        "  for k, v in posting_loc.items():\n",
        "    super_posting_locs_title[k].extend(v)\n",
        "\n",
        "\n",
        "#anchor?"
      ],
      "metadata": {
        "id": "-KIfcyux_she"
      },
      "execution_count": 18,
      "outputs": []
    },
    {
      "cell_type": "code",
      "source": [
        "inverted_text.posting_locs = super_posting_locs_text\n",
        "inverted_title.posting_locs = super_posting_locs_title\n",
        "\n",
        "inverted_text.df = w2df_text_dict\n",
        "inverted_title.df = w2df_title_dict\n",
        "\n",
        "inverted_text.write_index('.', 'index_text')\n",
        "inverted_title.write_index('.', 'index_title')"
      ],
      "metadata": {
        "id": "EcJQ8rcm_ukr"
      },
      "execution_count": 19,
      "outputs": []
    },
    {
      "cell_type": "markdown",
      "source": [
        "vector size after tfidf per doc"
      ],
      "metadata": {
        "id": "h1BM1OkUNrTf"
      }
    },
    {
      "cell_type": "code",
      "source": [
        "def calculate_tfidf_doc(tf_term_doc, index):\n",
        "  DL = index.DL\n",
        "  N = len(DL)\n",
        "  df_dict = index.df\n",
        "  doc_term_tfidf = tf_term_doc.map(lambda x : (x[0] , math.sqrt(builtins.sum([math.pow((tf/DL[x[0]]) * (math.log(N/df_dict[term],10)),2) for term, tf in x[1] if term in df_dict]))))\n",
        "  return doc_term_tfidf\n"
      ],
      "metadata": {
        "id": "F8JjTSxN_xv1"
      },
      "execution_count": 20,
      "outputs": []
    },
    {
      "cell_type": "code",
      "source": [
        "tf_term_doc_text = id_text.map(lambda x : (x[0], tf_for_term_id(x[0], x[1])))\n",
        "tfidf_text = calculate_tfidf_doc(tf_term_doc_text, inverted_text)\n",
        "tfidf_dict_text = tfidf_text.collectAsMap()\n",
        "\n",
        "# tf_term_doc_title = id_title.map(lambda x : (x[0], tf_for_term_id(x[0], x[1])))\n",
        "# tfidf_title = calculate_tfidf_doc(tf_term_doc_title, inverted_title)\n",
        "# tfidf_dict_title = tfidf_title.collectAsMap()\n"
      ],
      "metadata": {
        "id": "dkwBFv7QNls8"
      },
      "execution_count": 60,
      "outputs": []
    },
    {
      "cell_type": "code",
      "source": [
        "inverted_text.vec_len_doc = tfidf_dict_text\n",
        "\n",
        "# inverted_title.vec_len_doc = tfidf_dict_title"
      ],
      "metadata": {
        "id": "M8MDkBafUGa8"
      },
      "execution_count": 61,
      "outputs": []
    },
    {
      "cell_type": "markdown",
      "source": [
        "Reading a posting list?"
      ],
      "metadata": {
        "id": "e74oBWQrOCG7"
      }
    },
    {
      "cell_type": "code",
      "source": [
        "TUPLE_SIZE = 6       \n",
        "TF_MASK = 2 ** 16 - 1 # Masking the 16 low bits of an integer\n",
        "from contextlib import closing\n",
        "\n",
        "def read_posting_list(inverted, w):\n",
        "  with closing(MultiFileReader()) as reader:\n",
        "    locs = inverted.posting_locs[w]\n",
        "    b = reader.read(locs, inverted.df[w] * TUPLE_SIZE)\n",
        "    posting_list = []\n",
        "    for i in range(inverted.df[w]):\n",
        "      doc_id = int.from_bytes(b[i*TUPLE_SIZE:i*TUPLE_SIZE+4], 'big')\n",
        "      tf = int.from_bytes(b[i*TUPLE_SIZE+4:(i+1)*TUPLE_SIZE], 'big')\n",
        "      posting_list.append((doc_id, tf))\n",
        "    return posting_list"
      ],
      "metadata": {
        "id": "529LlmoQNqZm"
      },
      "execution_count": 23,
      "outputs": []
    },
    {
      "cell_type": "code",
      "source": [
        "def get_posting_gen(index):\n",
        "    \"\"\"\n",
        "    This function returning the generator working with posting list.\n",
        "    \n",
        "    Parameters:\n",
        "    ----------\n",
        "    index: inverted index    \n",
        "    \"\"\"\n",
        "    words, pls = zip(*index.posting_lists_iter())\n",
        "    return words,pls"
      ],
      "metadata": {
        "id": "o_nBOtVjOPFd"
      },
      "execution_count": 24,
      "outputs": []
    },
    {
      "cell_type": "code",
      "source": [
        "words_text, pls_text = get_posting_gen(inverted_text)\n",
        "words_title, pls_title = get_posting_gen(inverted_title)"
      ],
      "metadata": {
        "id": "gG2P6GCPOPv4"
      },
      "execution_count": 41,
      "outputs": []
    },
    {
      "cell_type": "markdown",
      "source": [
        "# Search Body"
      ],
      "metadata": {
        "id": "5URk-meLOHy2"
      }
    },
    {
      "cell_type": "code",
      "source": [
        "def generate_query_tfidf_vector(query_to_search,index):\n",
        "    \"\"\" \n",
        "    Generate a vector representing the query. Each entry within this vector represents a tfidf score.\n",
        "    The terms representing the query will be the unique terms in the index.\n",
        "\n",
        "    We will use tfidf on the query as well. \n",
        "    For calculation of IDF, use log with base 10.\n",
        "    tf will be normalized based on the length of the query.    \n",
        "\n",
        "    Parameters:\n",
        "    -----------\n",
        "    query_to_search: list of tokens (str). This list will be preprocessed in advance (e.g., lower case, filtering stopwords, etc.'). \n",
        "                     Example: 'Hello, I love information retrival' --->  ['hello','love','information','retrieval']\n",
        "\n",
        "    index:           inverted index loaded from the corresponding files.\n",
        "    \n",
        "    Returns:\n",
        "    -----------\n",
        "    vectorized query with tfidf scores\n",
        "    \"\"\"\n",
        "    \n",
        "    epsilon = .0000001\n",
        "    total_vocab_size = len(index.term_total)\n",
        "    Q = np.zeros((total_vocab_size))\n",
        "    term_vector = list(index.term_total.keys()) \n",
        "    counter = Counter(query_to_search)\n",
        "    for token in np.unique(query_to_search):\n",
        "        if token in index.term_total.keys(): #avoid terms that do not appear in the index.               \n",
        "            tf = counter[token]/len(query_to_search) # term frequency divded by the length of the query\n",
        "            df = index.df[token]            \n",
        "            idf = math.log((len(index.DL))/(df+epsilon),10) #smoothing\n",
        "            try:\n",
        "                ind = term_vector.index(token)\n",
        "                Q[ind] = tf*idf                    \n",
        "            except:\n",
        "                pass\n",
        "    return Q\n",
        "    "
      ],
      "metadata": {
        "id": "nXwkcFZ3OEhw"
      },
      "execution_count": 26,
      "outputs": []
    },
    {
      "cell_type": "code",
      "source": [
        " def get_candidate_documents_and_scores(query_to_search,index,words,pls):\n",
        "    \"\"\"\n",
        "    Generate a dictionary representing a pool of candidate documents for a given query. This function will go through every token in query_to_search\n",
        "    and fetch the corresponding information (e.g., term frequency, document frequency, etc.') needed to calculate TF-IDF from the posting list.\n",
        "    Then it will populate the dictionary 'candidates.'\n",
        "    For calculation of IDF, use log with base 10.\n",
        "    tf will be normalized based on the length of the document.\n",
        "    \n",
        "    Parameters:\n",
        "    -----------\n",
        "    query_to_search: list of tokens (str). This list will be preprocessed in advance (e.g., lower case, filtering stopwords, etc.'). \n",
        "                     Example: 'Hello, I love information retrival' --->  ['hello','love','information','retrieval']\n",
        "\n",
        "    index:           inverted index loaded from the corresponding files.\n",
        "\n",
        "    words,pls: generator for working with posting.\n",
        "    Returns:\n",
        "    -----------\n",
        "    dictionary of candidates. In the following format:\n",
        "                                                               key: pair (doc_id,term)\n",
        "                                                               value: tfidf score. \n",
        "    \"\"\"\n",
        "    candidates = {}\n",
        "    N = len(index.DL)\n",
        "    for term in np.unique(query_to_search):  \n",
        "        if term in words:            \n",
        "            list_of_doc = pls[words.index(term)]\n",
        "            normlized_tfidf = [(doc_id,(freq/index.DL[doc_id])*math.log(N/index.df[term],10)) for doc_id, freq in list_of_doc]           \n",
        "            for doc_id, tfidf in normlized_tfidf:\n",
        "                candidates[(doc_id,term)] = candidates.get((doc_id,term), 0) + tfidf               \n",
        "    \n",
        "    return candidates\n",
        "\n"
      ],
      "metadata": {
        "id": "E07unccAOUfV"
      },
      "execution_count": 54,
      "outputs": []
    },
    {
      "cell_type": "code",
      "source": [
        "def generate_document_tfidf_matrix(query_to_search,index,words,pls):\n",
        "    \"\"\"\n",
        "    Generate a DataFrame `D` of tfidf scores for a given query. \n",
        "    Rows will be the documents candidates for a given query\n",
        "    Columns will be the unique terms in the index.\n",
        "    The value for a given document and term will be its tfidf score.\n",
        "    \n",
        "    Parameters:\n",
        "    -----------\n",
        "    query_to_search: list of tokens (str). This list will be preprocessed in advance (e.g., lower case, filtering stopwords, etc.'). \n",
        "                     Example: 'Hello, I love information retrival' --->  ['hello','love','information','retrieval']\n",
        "\n",
        "    index:           inverted index loaded from the corresponding files.\n",
        "\n",
        "    words,pls: generator for working with posting.\n",
        "    Returns:\n",
        "    -----------\n",
        "    DataFrame of tfidf scores.\n",
        "    \"\"\"\n",
        "    \n",
        "    total_vocab_size = len(index.term_total)\n",
        "    candidates_scores = get_candidate_documents_and_scores(query_to_search,index,words,pls) #We do not need to utilize all document. Only the docuemnts which have corrspoinding terms with the query.\n",
        "    unique_candidates = np.unique([doc_id for doc_id, freq in candidates_scores.keys()])\n",
        "    D = np.zeros((len(unique_candidates), total_vocab_size))\n",
        "    D = pd.DataFrame(D)\n",
        "    \n",
        "    D.index = unique_candidates\n",
        "    D.columns = index.term_total.keys()\n",
        "\n",
        "    for key in candidates_scores:\n",
        "        tfidf = candidates_scores[key]\n",
        "        doc_id, term = key    \n",
        "        D.loc[doc_id][term] = tfidf\n",
        "\n",
        "\n",
        "    return D\n",
        "     "
      ],
      "metadata": {
        "id": "K4mGnaaUOWre"
      },
      "execution_count": 47,
      "outputs": []
    },
    {
      "cell_type": "code",
      "source": [
        "def cosine_similarity(D,Q,index):\n",
        "    \"\"\"\n",
        "    Calculate the cosine similarity for each candidate document in D and a given query (e.g., Q).\n",
        "    Generate a dictionary of cosine similarity scores \n",
        "    key: doc_id\n",
        "    value: cosine similarity score\n",
        "    \n",
        "    Parameters:\n",
        "    -----------\n",
        "    D: DataFrame of tfidf scores.\n",
        "\n",
        "    Q: vectorized query with tfidf scores\n",
        "    \n",
        "    Returns:\n",
        "    -----------\n",
        "    dictionary of cosine similarity score as follows:\n",
        "                                                                key: document id (e.g., doc_id)\n",
        "                                                                value: cosine similarty score.\n",
        "    \"\"\"\n",
        "    dict_cos = {}\n",
        "    for doc_id, row in D.iterrows(): \n",
        "      vec_doc = row.to_numpy()\n",
        "      result = np.dot(vec_doc, Q)/(index.vec_len_doc[doc_id] * np.linalg.norm(Q))\n",
        "      dict_cos[doc_id] = result\n",
        "    return dict_cos\n"
      ],
      "metadata": {
        "id": "ksAChpPPOY-M"
      },
      "execution_count": 29,
      "outputs": []
    },
    {
      "cell_type": "code",
      "source": [
        "def get_top_n(sim_dict,N=3):\n",
        "    \"\"\" \n",
        "    Sort and return the highest N documents according to the cosine similarity score.\n",
        "    Generate a dictionary of cosine similarity scores \n",
        "   \n",
        "    Parameters:\n",
        "    -----------\n",
        "    sim_dict: a dictionary of similarity score as follows:\n",
        "                                                                key: document id (e.g., doc_id)\n",
        "                                                                value: similarity score. We keep up to 5 digits after the decimal point. (e.g., round(score,5))\n",
        "\n",
        "    N: Integer (how many documents to retrieve). By default N = 3\n",
        "    \n",
        "    Returns:\n",
        "    -----------\n",
        "    a ranked list of pairs (doc_id, score) in the length of N.\n",
        "    \"\"\"\n",
        "    lst = [(doc_id , builtins.round(score,5)) for doc_id, score in sim_dict.items()]\n",
        "    return sorted(lst, key = lambda x: x[1], reverse=True)[:N]\n",
        "    "
      ],
      "metadata": {
        "id": "SzkZ1OQzOarj"
      },
      "execution_count": 30,
      "outputs": []
    },
    {
      "cell_type": "code",
      "source": [
        "def get_topN_score_for_queries(queries_to_search,index, words, pls,N=3):\n",
        "    \"\"\" \n",
        "    Generate a dictionary that gathers for every query its topN score.\n",
        "    \n",
        "    Parameters:\n",
        "    -----------\n",
        "    queries_to_search: a dictionary of queries as follows: \n",
        "                                                        key: query_id\n",
        "                                                        value: list of tokens.\n",
        "    index:           inverted index loaded from the corresponding files.    \n",
        "    N: Integer. How many documents to retrieve. This argument is passed to the topN function. By default N = 3, for the topN function. \n",
        "    \n",
        "    Returns:\n",
        "    -----------\n",
        "    return: a dictionary of queries and topN pairs as follows:\n",
        "                                                        key: query_id\n",
        "                                                        value: list of pairs in the following format:(doc_id, score). \n",
        "    \"\"\"\n",
        "    top_N = {}\n",
        "    for q_id, q in queries_to_search.items() :\n",
        "      Q = generate_query_tfidf_vector(q,index)\n",
        "      D = generate_document_tfidf_matrix(q, index, words, pls)\n",
        "      top_N[q_id] = get_top_n(cosine_similarity(D, Q, index), N)\n",
        "    return top_N\n"
      ],
      "metadata": {
        "id": "CleMkaffOgA4"
      },
      "execution_count": 46,
      "outputs": []
    },
    {
      "cell_type": "markdown",
      "source": [
        "# Search Title"
      ],
      "metadata": {
        "id": "BoLI8Zbuct1D"
      }
    },
    {
      "cell_type": "code",
      "source": [
        "def get_score_for_title(query, index,words, pls):\n",
        "    \n",
        "    candidates = {}\n",
        "    len_query = len(np.unique(query))\n",
        "    for term in np.unique(query):  \n",
        "        if term in words:            \n",
        "            list_of_doc = pls[words.index(term)]\n",
        "            # normlized_tfidf = [(doc_id,(freq/index.DL[doc_id])*math.log(N/index.df[term],10)) for doc_id, freq in list_of_doc]           \n",
        "            # for doc_id, tfidf in normlized_tfidf:\n",
        "            #     candidates[(doc_id,term)] = candidates.get((doc_id,term), 0) + tfidf               \n",
        "    \n",
        "    return candidates\n",
        "\n",
        "  for term in np.unique(query_to_search):\n"
      ],
      "metadata": {
        "id": "KU4ypjkZcyRb"
      },
      "execution_count": null,
      "outputs": []
    },
    {
      "cell_type": "markdown",
      "source": [
        "# Testing search"
      ],
      "metadata": {
        "id": "0j4pEUvrsaGZ"
      }
    },
    {
      "cell_type": "markdown",
      "source": [
        "search body"
      ],
      "metadata": {
        "id": "Xv4EgLprR9Li"
      }
    },
    {
      "cell_type": "code",
      "source": [
        "dict_q = {}\n",
        "# dict_q[1] = ['best', 'marvel', 'movie']\n",
        "dict_q[1] = ['python']\n",
        "tfidf_queries_score_train = get_topN_score_for_queries(dict_q, inverted_text,words_text, pls_text, 100)\n",
        "print(tfidf_queries_score_train)\n",
        "\n",
        "# tfidf_titles = get_topN_score_for_queries(dict_q, inverted_title,100)\n",
        "# print(tfidf_titles)\n",
        "\n",
        "\n",
        "# lst = [57069491, 65967176, 42163310, 878659, 27306717, 41677925, 1074657, 44240443, 17296107, 60952488, 43603241, 22114132, 46208997, 36450985, 41974555, 56289672, 60616450, 59502488, 33038861, 61699239, 61651800, 39368416, 29129051, 55935213, 54537218, 62372638, 60774345, 63090183, 37497391, 51430647, 67229718, 9110929, 61329320, 44254295, 41974496, 200563, 58481694, 48530084, 56289572, 22144990, 612052, 59162931, 55511148, 55511147, 61073786, 59892, 36484005, 36484254, 66423851, 62482816, 1275470, 5676692, 7927053, 60754840, 26999426, 60744481, 56289553, 60463979, 701741, 60283633, 1129847, 36439749, 4451883, 55511155, 22144721, 45359871, 723126, 43655965, 57275457, 12673434, 43867095, 26763420, 39293265, 15003874, 41668588, 61592102, 67063919, 11891433, 64057670, 61513780, 39345917, 67063906, 1221476, 41008758, 60587000, 7729, 2152196, 5027882, 509738, 403585, 26866372, 1339248, 3473503, 4148655]\n",
        "lst = [23862, 23329, 53672527, 21356332, 4920126, 5250192, 819149, 46448252, 83036, 88595, 18942, 696712, 2032271, 1984246, 5204237, 645111, 18384111, 3673376, 25061839, 271890, 226402, 2380213, 1179348, 15586616, 50278739, 19701, 3596573, 4225907, 19160, 1235986, 6908561, 3594951, 18805500, 5087621, 25049240, 2432299, 381782, 9603954, 390263, 317752, 38007831, 2564605, 13370873, 2403126, 17402165, 23678545, 7837468, 23954341, 11505904, 196698, 34292335, 52042, 2247376, 15858, 11322015, 13062829, 38833779, 7800160, 24193668, 440018, 54351136, 28887886, 19620, 23045823, 43003632, 746577, 1211612, 8305253, 14985517, 30796675, 51800, 964717, 6146589, 13024, 11583987, 57294217, 27471338, 5479462]\n",
        "lst_docs_returned = [x[0] for x in tfidf_queries_score_train[1]]\n",
        "\n",
        "lst_equal = [x for x in lst_docs_returned if x in lst]\n",
        "print(len(lst))\n",
        "print(len(lst_equal))\n",
        "\n",
        "# lst_top_6 = [57069491, 65967176, 42163310, 878659, 27306717, 41677925]\n",
        "\n",
        "lst_indecies = [lst_docs_returned.index(x) for x in lst if x in lst_docs_returned]\n",
        "print(lst_indecies)\n"
      ],
      "metadata": {
        "colab": {
          "base_uri": "https://localhost:8080/"
        },
        "id": "t4f56xXhsVP4",
        "outputId": "db8809d6-c2fe-4964-c693-47fe30c82335"
      },
      "execution_count": 57,
      "outputs": [
        {
          "output_type": "stream",
          "name": "stdout",
          "text": [
            "{1: [(23862, 0.86067), (21356332, 0.85709), (18805500, 0.82209), (3673376, 0.80627), (696712, 0.80121), (4920126, 0.6872), (25061839, 0.66749), (1984246, 0.6635), (88595, 0.65193), (46448252, 0.64461), (24193668, 0.64296), (5250192, 0.63494), (18384111, 0.63345), (2032271, 0.63233), (13062829, 0.61265), (13370873, 0.60978), (2564605, 0.60958), (5087621, 0.58553), (5204237, 0.58407), (30796675, 0.56062), (23329, 0.55363), (14985517, 0.54372), (34292335, 0.53946), (11322015, 0.51823), (6146589, 0.51187), (390263, 0.51086), (3596573, 0.5094), (83036, 0.50313), (38007831, 0.48423), (4225907, 0.47154), (9603954, 0.44683), (18942, 0.43328), (7837468, 0.43272), (23045823, 0.42648), (7800160, 0.38195), (271890, 0.37729), (1235986, 0.37336), (57294217, 0.34983), (50278739, 0.34209), (226402, 0.34026), (2380213, 0.3225), (5479462, 0.31138), (645111, 0.30176), (819149, 0.30044), (25049240, 0.28896), (11583987, 0.28795), (53672527, 0.28373), (2247376, 0.28348), (23678545, 0.28238), (28887886, 0.26952), (6908561, 0.26501), (1179348, 0.25177), (43003632, 0.25078), (17402165, 0.24856), (11505904, 0.24463), (2432299, 0.24185), (52042, 0.22476), (15586616, 0.21323), (196698, 0.20593), (381782, 0.20228), (19701, 0.19806), (51800, 0.19307), (746577, 0.16995), (54351136, 0.1624), (13024, 0.15559), (38833779, 0.1412), (19160, 0.12759), (317752, 0.12531), (2403126, 0.1251), (964717, 0.11912), (19620, 0.119), (8305253, 0.10658), (3594951, 0.10504), (55207134, 0.10428), (24213566, 0.10112), (15858, 0.08252), (440018, 0.06652), (9042644, 0.05607), (39171985, 0.05454), (51505979, 0.0533), (48364486, 0.05113), (5376796, 0.04733), (416589, 0.0394), (18968719, 0.0374), (376707, 0.03596), (27471338, 0.03559), (37331423, 0.03391), (23954341, 0.02933), (12487489, 0.02903), (31663650, 0.02651), (35356507, 0.02494), (30874683, 0.02299), (2030607, 0.02221), (7872152, 0.01847), (2720954, 0.0173), (42411494, 0.01727), (42253, 0.0171), (20948989, 0.01623), (383162, 0.01511), (1309220, 0.01457)]}\n",
            "78\n",
            "77\n",
            "[0, 20, 46, 1, 5, 11, 43, 9, 27, 8, 31, 4, 13, 7, 18, 42, 12, 3, 6, 35, 39, 40, 51, 57, 38, 60, 26, 29, 66, 36, 50, 72, 2, 17, 44, 55, 59, 30, 25, 67, 28, 16, 15, 68, 53, 48, 32, 87, 54, 58, 22, 56, 47, 75, 23, 14, 65, 34, 10, 76, 63, 49, 70, 33, 52, 62, 71, 21, 19, 61, 69, 24, 64, 45, 37, 85, 41]\n"
          ]
        }
      ]
    },
    {
      "cell_type": "markdown",
      "source": [
        "search title"
      ],
      "metadata": {
        "id": "aTIQEjHoSALX"
      }
    },
    {
      "cell_type": "code",
      "source": [
        "dict_q = {}\n",
        "# dict_q[1] = ['best', 'marvel', 'movie']\n",
        "\n",
        "dict_q[1] = ['python']\n",
        "\n",
        "\n",
        "# tfidf_queries_score_train = get_topN_score_for_queries(dict_q, inverted_text,100)\n",
        "# print(tfidf_queries_score_train)\n",
        "\n",
        "tfidf_titles = get_topN_score_for_queries(dict_q, inverted_title, words_title, pls_title ,100)\n",
        "print(tfidf_titles)\n",
        "\n",
        "\n",
        "# lst = [57069491, 65967176, 42163310, 878659, 27306717, 41677925, 1074657, 44240443, 17296107, 60952488, 43603241, 22114132, 46208997, 36450985, 41974555, 56289672, 60616450, 59502488, 33038861, 61699239, 61651800, 39368416, 29129051, 55935213, 54537218, 62372638, 60774345, 63090183, 37497391, 51430647, 67229718, 9110929, 61329320, 44254295, 41974496, 200563, 58481694, 48530084, 56289572, 22144990, 612052, 59162931, 55511148, 55511147, 61073786, 59892, 36484005, 36484254, 66423851, 62482816, 1275470, 5676692, 7927053, 60754840, 26999426, 60744481, 56289553, 60463979, 701741, 60283633, 1129847, 36439749, 4451883, 55511155, 22144721, 45359871, 723126, 43655965, 57275457, 12673434, 43867095, 26763420, 39293265, 15003874, 41668588, 61592102, 67063919, 11891433, 64057670, 61513780, 39345917, 67063906, 1221476, 41008758, 60587000, 7729, 2152196, 5027882, 509738, 403585, 26866372, 1339248, 3473503, 4148655]\n",
        "lst = [23862, 23329, 53672527, 21356332, 4920126, 5250192, 819149, 46448252, 83036, 88595, 18942, 696712, 2032271, 1984246, 5204237, 645111, 18384111, 3673376, 25061839, 271890, 226402, 2380213, 1179348, 15586616, 50278739, 19701, 3596573, 4225907, 19160, 1235986, 6908561, 3594951, 18805500, 5087621, 25049240, 2432299, 381782, 9603954, 390263, 317752, 38007831, 2564605, 13370873, 2403126, 17402165, 23678545, 7837468, 23954341, 11505904, 196698, 34292335, 52042, 2247376, 15858, 11322015, 13062829, 38833779, 7800160, 24193668, 440018, 54351136, 28887886, 19620, 23045823, 43003632, 746577, 1211612, 8305253, 14985517, 30796675, 51800, 964717, 6146589, 13024, 11583987, 57294217, 27471338, 5479462]\n",
        "\n",
        "lst_docs_returned = [x[0] for x in tfidf_titles[1]]\n",
        "\n",
        "lst_equal = [x for x in lst_docs_returned if x in lst]\n",
        "print(len(lst))\n",
        "print(len(lst_equal))\n",
        "\n",
        "# lst_top_6 = [57069491, 65967176, 42163310, 878659, 27306717, 41677925]\n",
        "\n",
        "lst_indecies = [lst_docs_returned.index(x) for x in lst if x in lst_docs_returned]\n",
        "print(lst_indecies)\n"
      ],
      "metadata": {
        "colab": {
          "base_uri": "https://localhost:8080/"
        },
        "id": "_srwh_rfSC2c",
        "outputId": "ee8729c0-641e-4252-c312-7747f9b7b9a5"
      },
      "execution_count": 59,
      "outputs": [
        {
          "output_type": "stream",
          "name": "stdout",
          "text": [
            "{1: [(18942, 1.0), (19160, 1.0), (19701, 1.0), (23862, 1.0), (83036, 1.0), (88595, 1.0), (196698, 1.0), (271890, 1.0), (317752, 1.0), (696712, 1.0), (819149, 1.0), (2032271, 1.0), (2380213, 1.0), (2403126, 1.0), (2432299, 1.0), (3594951, 1.0), (3596573, 1.0), (4920126, 1.0), (5087621, 1.0), (5204237, 1.0), (5250192, 1.0), (6146589, 1.0), (6908561, 1.0), (7800160, 1.0), (7837468, 1.0), (9603954, 1.0), (11505904, 1.0), (11583987, 1.0), (13062829, 1.0), (13370873, 1.0), (14985517, 1.0), (15586616, 1.0), (18805500, 1.0), (21356332, 1.0), (23678545, 1.0), (24193668, 1.0), (25049240, 1.0), (25061839, 1.0), (30796675, 1.0), (43003632, 1.0), (46448252, 1.0), (53672527, 1.0), (54351136, 1.0), (3673376, 0.7891), (645111, 0.75788), (746577, 0.68566)]}\n",
            "78\n",
            "46\n",
            "[3, 41, 33, 17, 20, 10, 40, 4, 5, 0, 9, 11, 19, 44, 43, 37, 7, 12, 31, 2, 16, 1, 22, 15, 32, 18, 36, 14, 25, 8, 29, 13, 34, 24, 26, 6, 28, 23, 35, 42, 39, 45, 30, 38, 21, 27]\n"
          ]
        }
      ]
    }
  ]
}